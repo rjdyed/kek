{
 "cells": [
  {
   "cell_type": "markdown",
   "metadata": {},
   "source": [
    "## Libs"
   ]
  },
  {
   "cell_type": "code",
   "execution_count": null,
   "metadata": {},
   "outputs": [],
   "source": [
    "import pandas as pd\n",
    "import xlrd"
   ]
  },
  {
   "cell_type": "markdown",
   "metadata": {},
   "source": [
    "## Vars"
   ]
  },
  {
   "cell_type": "code",
   "execution_count": null,
   "metadata": {},
   "outputs": [],
   "source": [
    "excelfile = 'data/list.xlsx'\n",
    "cols = 'A:I'\n",
    "col_name = 'Opponent Name'\n",
    "col_orig_name = 'Opponent'"
   ]
  },
  {
   "cell_type": "code",
   "execution_count": null,
   "metadata": {},
   "outputs": [],
   "source": [
    "pd.set_option('display.max_columns', None)  # or 1000\n",
    "pd.set_option('display.max_rows', None)"
   ]
  },
  {
   "cell_type": "markdown",
   "metadata": {},
   "source": [
    "## EDA"
   ]
  },
  {
   "cell_type": "code",
   "execution_count": null,
   "metadata": {},
   "outputs": [],
   "source": [
    "xls = xlrd.open_workbook(excelfile, on_demand=True)\n",
    "print(xls.sheet_names()) \n",
    "\n",
    "sheet_names = xls.sheet_names()"
   ]
  },
  {
   "cell_type": "code",
   "execution_count": null,
   "metadata": {},
   "outputs": [],
   "source": [
    "sheet_names.remove('Totals')\n",
    "sheet_names.remove('faq')"
   ]
  },
  {
   "cell_type": "code",
   "execution_count": null,
   "metadata": {},
   "outputs": [],
   "source": [
    "col_val = [i.replace('vs ','') for i in sheet_names]"
   ]
  },
  {
   "cell_type": "code",
   "execution_count": null,
   "metadata": {},
   "outputs": [],
   "source": [
    "col_val"
   ]
  },
  {
   "cell_type": "code",
   "execution_count": null,
   "metadata": {},
   "outputs": [],
   "source": [
    "for i in range(0,6):\n",
    "#     print(i)\n",
    "    q=i+1\n",
    "    exec(f'game_{q} = pd.read_excel(excelfile, usecols=cols, nrows=15, sheet_name=sheet_names[i])')\n",
    "    exec(f'game_{q}.insert(loc=9,column=col_name,value=col_val[i])')\n",
    "    columns_rename = {col_val[i]:col_orig_name}\n",
    "    exec(f'game_{q}.rename(columns=columns_rename,inplace=True)')"
   ]
  },
  {
   "cell_type": "code",
   "execution_count": null,
   "metadata": {},
   "outputs": [],
   "source": [
    "game_1"
   ]
  },
  {
   "cell_type": "code",
   "execution_count": null,
   "metadata": {},
   "outputs": [],
   "source": [
    "game1=pd.read_excel(excelfile, usecols='A:I', nrows=15)\n",
    "game1.insert(loc=9,column=\"Opponent Name\",value=\"X3\")\n",
    "game1.rename(columns={'X3':'Opponent'},inplace=True)\n",
    "game1"
   ]
  },
  {
   "cell_type": "code",
   "execution_count": null,
   "metadata": {},
   "outputs": [],
   "source": [
    "players1=pd.read_excel(excelfile,usecols='L:AU', nrows=11)\n",
    "players1.insert(loc=0, column=\"Opponent Name\",value=\"X3\")\n",
    "players1\n"
   ]
  },
  {
   "cell_type": "code",
   "execution_count": null,
   "metadata": {},
   "outputs": [],
   "source": [
    "game2=pd.read_excel(excelfile,usecols='A:I', nrows=19, sheet_name='vs Nova')\n",
    "game2.insert(loc=9,column=\"Opponent Name\",value=\"Nova\")\n",
    "game2.rename(columns={'Nova':'Opponent'},inplace=True)\n",
    "game2\n"
   ]
  },
  {
   "cell_type": "code",
   "execution_count": null,
   "metadata": {},
   "outputs": [],
   "source": [
    "players2=pd.read_excel(excelfile,usecols='L:AU', nrows=11, sheet_name='vs Nova')\n",
    "players2.insert(loc=0, column=\"Opponent Name\",value=\"Nova\")\n",
    "players2\n"
   ]
  },
  {
   "cell_type": "code",
   "execution_count": null,
   "metadata": {},
   "outputs": [],
   "source": [
    "game3=pd.read_excel(excelfile,usecols='A:I', nrows=14, sheet_name='vs Lynxes')\n",
    "game3.insert(loc=9,column=\"Opponent Name\",value=\"Lynxes\")\n",
    "game3.rename(columns={'Lynxes':'Opponent'},inplace=True)\n",
    "game3\n"
   ]
  },
  {
   "cell_type": "code",
   "execution_count": null,
   "metadata": {},
   "outputs": [],
   "source": [
    "players3=pd.read_excel(excelfile,usecols='L:AU', nrows=11,sheet_name='vs Lynxes')\n",
    "players3.insert(loc=0, column=\"Opponent Name\",value=\"Lynxes\")\n",
    "players3\n",
    "\n"
   ]
  },
  {
   "cell_type": "code",
   "execution_count": null,
   "metadata": {},
   "outputs": [],
   "source": [
    "game4=pd.read_excel(excelfile,usecols='A:I', nrows=15,sheet_name='vs Phoenix')\n",
    "game4.insert(loc=9,column=\"Opponent Name\",value=\"Phoenix\")\n",
    "game4.rename(columns={'Phoenix':'Opponent'},inplace=True)\n",
    "game4"
   ]
  },
  {
   "cell_type": "code",
   "execution_count": null,
   "metadata": {},
   "outputs": [],
   "source": [
    "players4=pd.read_excel(excelfile,usecols='L:AU', nrows=11, sheet_name='vs Phoenix')\n",
    "players4.insert(loc=0, column=\"Opponent Name\",value=\"Phoenix\")\n",
    "players4"
   ]
  },
  {
   "cell_type": "code",
   "execution_count": null,
   "metadata": {},
   "outputs": [],
   "source": [
    "game5=pd.read_excel(excelfile,usecols='A:I', nrows=15, sheet_name='vs Executors')\n",
    "game5.insert(loc=9,column=\"Opponent Name\",value=\"Executors\")\n",
    "game5.rename(columns={'Executors':'Opponent'},inplace=True)\n",
    "game5"
   ]
  },
  {
   "cell_type": "code",
   "execution_count": null,
   "metadata": {},
   "outputs": [],
   "source": [
    "players5=pd.read_excel(excelfile,usecols='L:AU', nrows=12, sheet_name='vs Executors')\n",
    "players5.insert(loc=0, column=\"Opponent Name\",value=\"Executors\")\n",
    "players5"
   ]
  },
  {
   "cell_type": "code",
   "execution_count": null,
   "metadata": {},
   "outputs": [],
   "source": [
    "game6=pd.read_excel(excelfile,usecols='A:I', nrows=19,  sheet_name='vs Ultim8')\n",
    "game6.insert(loc=9,column=\"Opponent Name\",value=\"Ultim8\")\n",
    "game6.rename(columns={'Ultim8':'Opponent'},inplace=True)\n",
    "game6"
   ]
  },
  {
   "cell_type": "code",
   "execution_count": null,
   "metadata": {},
   "outputs": [],
   "source": [
    "players6=pd.read_excel(excelfile,usecols='L:AU', nrows=12, sheet_name='vs Ultim8')\n",
    "players6.insert(loc=0, column=\"Opponent Name\",value=\"Ultim8\")\n",
    "players6"
   ]
  },
  {
   "cell_type": "code",
   "execution_count": null,
   "metadata": {},
   "outputs": [],
   "source": [
    "gamesall=pd.concat([game1,game2,game3,game4,game5,game6],ignore_index=True)\n",
    "gamesall"
   ]
  },
  {
   "cell_type": "code",
   "execution_count": null,
   "metadata": {},
   "outputs": [],
   "source": [
    "gamesall[gamesall[\"Point\"]==3]"
   ]
  },
  {
   "cell_type": "code",
   "execution_count": null,
   "metadata": {},
   "outputs": [],
   "source": []
  }
 ],
 "metadata": {
  "kernelspec": {
   "display_name": "Python 3",
   "language": "python",
   "name": "python3"
  },
  "language_info": {
   "codemirror_mode": {
    "name": "ipython",
    "version": 3
   },
   "file_extension": ".py",
   "mimetype": "text/x-python",
   "name": "python",
   "nbconvert_exporter": "python",
   "pygments_lexer": "ipython3",
   "version": "3.7.6"
  }
 },
 "nbformat": 4,
 "nbformat_minor": 4
}
